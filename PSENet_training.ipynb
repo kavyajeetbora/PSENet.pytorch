{
  "nbformat": 4,
  "nbformat_minor": 0,
  "metadata": {
    "colab": {
      "name": "PSENet_trial_run.ipynb",
      "provenance": [],
      "collapsed_sections": [],
      "include_colab_link": true
    },
    "kernelspec": {
      "name": "python3",
      "display_name": "Python 3"
    },
    "accelerator": "GPU"
  },
  "cells": [
    {
      "cell_type": "markdown",
      "metadata": {
        "id": "view-in-github",
        "colab_type": "text"
      },
      "source": [
        "<a href=\"https://colab.research.google.com/github/kavyajeetbora/PSENet.pytorch/blob/master/PSENet_training.ipynb\" target=\"_parent\"><img src=\"https://colab.research.google.com/assets/colab-badge.svg\" alt=\"Open In Colab\"/></a>"
      ]
    },
    {
      "cell_type": "markdown",
      "metadata": {
        "id": "UByxwp0F3QUp",
        "colab_type": "text"
      },
      "source": [
        "## Installing softwares and other dependencies"
      ]
    },
    {
      "cell_type": "code",
      "metadata": {
        "id": "GSEHnmCxK_o9",
        "colab_type": "code",
        "colab": {}
      },
      "source": [
        "import matplotlib.pyplot as plt\n",
        "import numpy as np\n",
        "\n",
        "import torch\n",
        "from torch import nn\n",
        "import torchvision.transforms as transforms\n",
        "from torch.utils.data import DataLoader, Dataset"
      ],
      "execution_count": 0,
      "outputs": []
    },
    {
      "cell_type": "code",
      "metadata": {
        "id": "y99kqKlHoYkz",
        "colab_type": "code",
        "outputId": "6e7e6b06-7f15-453d-ab9e-dff376a86395",
        "colab": {
          "base_uri": "https://localhost:8080/",
          "height": 102
        }
      },
      "source": [
        "!pip install pyclipper"
      ],
      "execution_count": 2,
      "outputs": [
        {
          "output_type": "stream",
          "text": [
            "Collecting pyclipper\n",
            "\u001b[?25l  Downloading https://files.pythonhosted.org/packages/40/67/2691f7cbb28fb9dbf423f2302fe489f9cee34d9a50a743c95032a24ac597/pyclipper-1.1.0.post1-cp36-cp36m-manylinux1_x86_64.whl (129kB)\n",
            "\r\u001b[K     |██▌                             | 10kB 20.5MB/s eta 0:00:01\r\u001b[K     |█████                           | 20kB 1.7MB/s eta 0:00:01\r\u001b[K     |███████▋                        | 30kB 2.5MB/s eta 0:00:01\r\u001b[K     |██████████▏                     | 40kB 1.7MB/s eta 0:00:01\r\u001b[K     |████████████▊                   | 51kB 2.0MB/s eta 0:00:01\r\u001b[K     |███████████████▏                | 61kB 2.4MB/s eta 0:00:01\r\u001b[K     |█████████████████▊              | 71kB 2.8MB/s eta 0:00:01\r\u001b[K     |████████████████████▎           | 81kB 3.2MB/s eta 0:00:01\r\u001b[K     |██████████████████████▉         | 92kB 3.6MB/s eta 0:00:01\r\u001b[K     |█████████████████████████▍      | 102kB 2.7MB/s eta 0:00:01\r\u001b[K     |███████████████████████████▉    | 112kB 2.7MB/s eta 0:00:01\r\u001b[K     |██████████████████████████████▍ | 122kB 2.7MB/s eta 0:00:01\r\u001b[K     |████████████████████████████████| 133kB 2.7MB/s \n",
            "\u001b[?25hInstalling collected packages: pyclipper\n",
            "Successfully installed pyclipper-1.1.0.post1\n"
          ],
          "name": "stdout"
        }
      ]
    },
    {
      "cell_type": "code",
      "metadata": {
        "id": "ncoynOlfnIW1",
        "colab_type": "code",
        "outputId": "f58865df-34cb-4b57-c722-c4e66bfe221a",
        "colab": {
          "base_uri": "https://localhost:8080/",
          "height": 122
        }
      },
      "source": [
        "from google.colab import drive\n",
        "drive.mount('/content/drive')"
      ],
      "execution_count": 3,
      "outputs": [
        {
          "output_type": "stream",
          "text": [
            "Go to this URL in a browser: https://accounts.google.com/o/oauth2/auth?client_id=947318989803-6bn6qk8qdgf4n4g3pfee6491hc0brc4i.apps.googleusercontent.com&redirect_uri=urn%3aietf%3awg%3aoauth%3a2.0%3aoob&response_type=code&scope=email%20https%3a%2f%2fwww.googleapis.com%2fauth%2fdocs.test%20https%3a%2f%2fwww.googleapis.com%2fauth%2fdrive%20https%3a%2f%2fwww.googleapis.com%2fauth%2fdrive.photos.readonly%20https%3a%2f%2fwww.googleapis.com%2fauth%2fpeopleapi.readonly\n",
            "\n",
            "Enter your authorization code:\n",
            "··········\n",
            "Mounted at /content/drive\n"
          ],
          "name": "stdout"
        }
      ]
    },
    {
      "cell_type": "code",
      "metadata": {
        "id": "hhJ-6yyXcnRx",
        "colab_type": "code",
        "outputId": "c9ac208f-2d05-4380-e9f5-ba5697a59e44",
        "colab": {
          "base_uri": "https://localhost:8080/",
          "height": 221
        }
      },
      "source": [
        "import shutil, os\n",
        "os.chdir('/content')\n",
        "directory = '/content/cloned-repo'\n",
        "if os.path.exists(directory):\n",
        "  shutil.rmtree(directory)\n",
        "\n",
        "!git clone https://github.com/kavyajeetbora/PSENet.pytorch.git /content/cloned-repo\n",
        "print(\"Cloned the repository\")\n",
        "os.chdir('/content/cloned-repo')\n",
        "!ls"
      ],
      "execution_count": 4,
      "outputs": [
        {
          "output_type": "stream",
          "text": [
            "Cloning into '/content/cloned-repo'...\n",
            "remote: Enumerating objects: 92, done.\u001b[K\n",
            "remote: Counting objects:   1% (1/92)\u001b[K\rremote: Counting objects:   2% (2/92)\u001b[K\rremote: Counting objects:   3% (3/92)\u001b[K\rremote: Counting objects:   4% (4/92)\u001b[K\rremote: Counting objects:   5% (5/92)\u001b[K\rremote: Counting objects:   6% (6/92)\u001b[K\rremote: Counting objects:   7% (7/92)\u001b[K\rremote: Counting objects:   8% (8/92)\u001b[K\rremote: Counting objects:   9% (9/92)\u001b[K\rremote: Counting objects:  10% (10/92)\u001b[K\rremote: Counting objects:  11% (11/92)\u001b[K\rremote: Counting objects:  13% (12/92)\u001b[K\rremote: Counting objects:  14% (13/92)\u001b[K\rremote: Counting objects:  15% (14/92)\u001b[K\rremote: Counting objects:  16% (15/92)\u001b[K\rremote: Counting objects:  17% (16/92)\u001b[K\rremote: Counting objects:  18% (17/92)\u001b[K\rremote: Counting objects:  19% (18/92)\u001b[K\rremote: Counting objects:  20% (19/92)\u001b[K\rremote: Counting objects:  21% (20/92)\u001b[K\rremote: Counting objects:  22% (21/92)\u001b[K\rremote: Counting objects:  23% (22/92)\u001b[K\rremote: Counting objects:  25% (23/92)\u001b[K\rremote: Counting objects:  26% (24/92)\u001b[K\rremote: Counting objects:  27% (25/92)\u001b[K\rremote: Counting objects:  28% (26/92)\u001b[K\rremote: Counting objects:  29% (27/92)\u001b[K\rremote: Counting objects:  30% (28/92)\u001b[K\rremote: Counting objects:  31% (29/92)\u001b[K\rremote: Counting objects:  32% (30/92)\u001b[K\rremote: Counting objects:  33% (31/92)\u001b[K\rremote: Counting objects:  34% (32/92)\u001b[K\rremote: Counting objects:  35% (33/92)\u001b[K\rremote: Counting objects:  36% (34/92)\u001b[K\rremote: Counting objects:  38% (35/92)\u001b[K\rremote: Counting objects:  39% (36/92)\u001b[K\rremote: Counting objects:  40% (37/92)\u001b[K\rremote: Counting objects:  41% (38/92)\u001b[K\rremote: Counting objects:  42% (39/92)\u001b[K\rremote: Counting objects:  43% (40/92)\u001b[K\rremote: Counting objects:  44% (41/92)\u001b[K\rremote: Counting objects:  45% (42/92)\u001b[K\rremote: Counting objects:  46% (43/92)\u001b[K\rremote: Counting objects:  47% (44/92)\u001b[K\rremote: Counting objects:  48% (45/92)\u001b[K\rremote: Counting objects:  50% (46/92)\u001b[K\rremote: Counting objects:  51% (47/92)\u001b[K\rremote: Counting objects:  52% (48/92)\u001b[K\rremote: Counting objects:  53% (49/92)\u001b[K\rremote: Counting objects:  54% (50/92)\u001b[K\rremote: Counting objects:  55% (51/92)\u001b[K\rremote: Counting objects:  56% (52/92)\u001b[K\rremote: Counting objects:  57% (53/92)\u001b[K\rremote: Counting objects:  58% (54/92)\u001b[K\rremote: Counting objects:  59% (55/92)\u001b[K\rremote: Counting objects:  60% (56/92)\u001b[K\rremote: Counting objects:  61% (57/92)\u001b[K\rremote: Counting objects:  63% (58/92)\u001b[K\rremote: Counting objects:  64% (59/92)\u001b[K\rremote: Counting objects:  65% (60/92)\u001b[K\rremote: Counting objects:  66% (61/92)\u001b[K\rremote: Counting objects:  67% (62/92)\u001b[K\rremote: Counting objects:  68% (63/92)\u001b[K\rremote: Counting objects:  69% (64/92)\u001b[K\rremote: Counting objects:  70% (65/92)\u001b[K\rremote: Counting objects:  71% (66/92)\u001b[K\rremote: Counting objects:  72% (67/92)\u001b[K\rremote: Counting objects:  73% (68/92)\u001b[K\rremote: Counting objects:  75% (69/92)\u001b[K\rremote: Counting objects:  76% (70/92)\u001b[K\rremote: Counting objects:  77% (71/92)\u001b[K\rremote: Counting objects:  78% (72/92)\u001b[K\rremote: Counting objects:  79% (73/92)\u001b[K\rremote: Counting objects:  80% (74/92)\u001b[K\rremote: Counting objects:  81% (75/92)\u001b[K\rremote: Counting objects:  82% (76/92)\u001b[K\rremote: Counting objects:  83% (77/92)\u001b[K\rremote: Counting objects:  84% (78/92)\u001b[K\rremote: Counting objects:  85% (79/92)\u001b[K\rremote: Counting objects:  86% (80/92)\u001b[K\rremote: Counting objects:  88% (81/92)\u001b[K\rremote: Counting objects:  89% (82/92)\u001b[K\rremote: Counting objects:  90% (83/92)\u001b[K\rremote: Counting objects:  91% (84/92)\u001b[K\rremote: Counting objects:  92% (85/92)\u001b[K\rremote: Counting objects:  93% (86/92)\u001b[K\rremote: Counting objects:  94% (87/92)\u001b[K\rremote: Counting objects:  95% (88/92)\u001b[K\rremote: Counting objects:  96% (89/92)\u001b[K\rremote: Counting objects:  97% (90/92)\u001b[K\rremote: Counting objects:  98% (91/92)\u001b[K\rremote: Counting objects: 100% (92/92)\u001b[K\rremote: Counting objects: 100% (92/92), done.\u001b[K\n",
            "remote: Compressing objects: 100% (85/85), done.\u001b[K\n",
            "remote: Total 388 (delta 51), reused 16 (delta 7), pack-reused 296\u001b[K\n",
            "Receiving objects: 100% (388/388), 8.14 MiB | 5.69 MiB/s, done.\n",
            "Resolving deltas: 100% (177/177), done.\n",
            "Cloned the repository\n",
            "cal_recall  imgs\t\t     predict.py\t\t     README.md\n",
            "config.py   install_dependencies.sh  pse\t\t     train.py\n",
            "dataset     LICENSE\t\t     PSENet.ipynb\t     utils\n",
            "eval.py     models\t\t     PSENet_trial_run.ipynb\n"
          ],
          "name": "stdout"
        }
      ]
    },
    {
      "cell_type": "markdown",
      "metadata": {
        "id": "PrOmfo6_3X2I",
        "colab_type": "text"
      },
      "source": [
        "## Extracting the data and setting up the dataset"
      ]
    },
    {
      "cell_type": "code",
      "metadata": {
        "id": "dGLMxTujlm0w",
        "colab_type": "code",
        "colab": {}
      },
      "source": [
        "## unzipping the files\n",
        "from zipfile import ZipFile\n",
        "\n",
        "def unzip_files(file,output_dir):\n",
        "  with ZipFile(file, 'r') as zipObj:\n",
        "    # Extract all the contents of zip file in current directory\n",
        "    zipObj.extractall(output_dir)\n",
        "  print('Extracted to',output_dir)\n",
        "\n",
        "def make_directory(directory):\n",
        "  if os.path.isdir(directory):\n",
        "    shutil.rmtree(directory)\n",
        "  \n",
        "  os.mkdir(directory)\n",
        "  print('Created a new directory')\n",
        "\n",
        "training_data_zip = '/content/drive/My Drive/Colab Notebooks/padh.ai.notebooks/15. Object Detection/AI4Bharat Dataset/Training Set/Random 5000.zip'\n",
        "test_data_zip = '/content/drive/My Drive/Colab Notebooks/padh.ai.notebooks/15. Object Detection/AI4Bharat Dataset/Test Set/real_Image_dataset_Detection.zip'"
      ],
      "execution_count": 0,
      "outputs": []
    },
    {
      "cell_type": "code",
      "metadata": {
        "id": "FqJ6xb5u2dgg",
        "colab_type": "code",
        "colab": {
          "base_uri": "https://localhost:8080/",
          "height": 51
        },
        "outputId": "4498cb79-5b9f-4042-9159-70ad4b8a87d7"
      },
      "source": [
        "# make directories\n",
        "make_directory('Training Set')\n",
        "make_directory('Test Set')"
      ],
      "execution_count": 13,
      "outputs": [
        {
          "output_type": "stream",
          "text": [
            "Created a new directory\n",
            "Created a new directory\n"
          ],
          "name": "stdout"
        }
      ]
    },
    {
      "cell_type": "code",
      "metadata": {
        "id": "FFSaSXr-m-K4",
        "colab_type": "code",
        "outputId": "3988740d-523c-404a-c77b-1da9993a66b8",
        "colab": {
          "base_uri": "https://localhost:8080/",
          "height": 68
        }
      },
      "source": [
        "%%time\n",
        "unzip_files(training_data_zip,'Training Set')"
      ],
      "execution_count": 14,
      "outputs": [
        {
          "output_type": "stream",
          "text": [
            "Extracted to Train Set\n",
            "CPU times: user 4.4 s, sys: 1.66 s, total: 6.06 s\n",
            "Wall time: 6.29 s\n"
          ],
          "name": "stdout"
        }
      ]
    },
    {
      "cell_type": "code",
      "metadata": {
        "id": "MxPn5aW9nSxu",
        "colab_type": "code",
        "outputId": "85324263-6e9b-43db-cfc8-5865d16ca9da",
        "colab": {
          "base_uri": "https://localhost:8080/",
          "height": 68
        }
      },
      "source": [
        "%%time\n",
        "unzip_files(test_data_zip,'Test Set')"
      ],
      "execution_count": 16,
      "outputs": [
        {
          "output_type": "stream",
          "text": [
            "Extracted to Test Set\n",
            "CPU times: user 589 ms, sys: 175 ms, total: 764 ms\n",
            "Wall time: 2.2 s\n"
          ],
          "name": "stdout"
        }
      ]
    },
    {
      "cell_type": "code",
      "metadata": {
        "id": "YRSeyluknVH4",
        "colab_type": "code",
        "outputId": "6172144a-93e3-4f36-9461-80bf2ff6c943",
        "colab": {
          "base_uri": "https://localhost:8080/",
          "height": 34
        }
      },
      "source": [
        "print(len(os.listdir('Training Set/Images')))"
      ],
      "execution_count": 17,
      "outputs": [
        {
          "output_type": "stream",
          "text": [
            "12500\n"
          ],
          "name": "stdout"
        }
      ]
    },
    {
      "cell_type": "code",
      "metadata": {
        "id": "MOp4JsZ6nXvn",
        "colab_type": "code",
        "outputId": "868bb410-cf3c-4083-ed77-ac89c3afd5aa",
        "colab": {
          "base_uri": "https://localhost:8080/",
          "height": 34
        }
      },
      "source": [
        "print(len(os.listdir('Train Set/Annotations')))"
      ],
      "execution_count": 18,
      "outputs": [
        {
          "output_type": "stream",
          "text": [
            "12500\n"
          ],
          "name": "stdout"
        }
      ]
    },
    {
      "cell_type": "code",
      "metadata": {
        "id": "mhvg89mXn8zG",
        "colab_type": "code",
        "colab": {}
      },
      "source": [
        "from dataset.data_utils import *\n",
        "from torchvision import transforms\n",
        "from torch.utils.data import DataLoader, Dataset"
      ],
      "execution_count": 0,
      "outputs": []
    },
    {
      "cell_type": "code",
      "metadata": {
        "id": "MV5bgbgTvzDh",
        "colab_type": "code",
        "outputId": "9dfb4fab-fd8a-4e57-c969-5d040f1a15fb",
        "colab": {
          "base_uri": "https://localhost:8080/",
          "height": 34
        }
      },
      "source": [
        "data_dir  = 'Train Set'\n",
        "len(os.listdir(data_dir+ '/Images'))"
      ],
      "execution_count": 20,
      "outputs": [
        {
          "output_type": "execute_result",
          "data": {
            "text/plain": [
              "12500"
            ]
          },
          "metadata": {
            "tags": []
          },
          "execution_count": 20
        }
      ]
    },
    {
      "cell_type": "code",
      "metadata": {
        "id": "5yvh7F-WwetP",
        "colab_type": "code",
        "outputId": "145ea33d-9172-4ddb-9822-e96f701b5c23",
        "colab": {
          "base_uri": "https://localhost:8080/",
          "height": 34
        }
      },
      "source": [
        "os.listdir(data_dir)"
      ],
      "execution_count": 21,
      "outputs": [
        {
          "output_type": "execute_result",
          "data": {
            "text/plain": [
              "['Images', 'Annotations']"
            ]
          },
          "metadata": {
            "tags": []
          },
          "execution_count": 21
        }
      ]
    },
    {
      "cell_type": "code",
      "metadata": {
        "id": "4JeHTz3G6Lyj",
        "colab_type": "code",
        "outputId": "a3732570-aef7-407a-ad41-40a9c89c8363",
        "colab": {
          "base_uri": "https://localhost:8080/",
          "height": 34
        }
      },
      "source": [
        "train_data = MyDataset('Train Set',transform=transforms.ToTensor())\n",
        "len(train_data)"
      ],
      "execution_count": 22,
      "outputs": [
        {
          "output_type": "execute_result",
          "data": {
            "text/plain": [
              "12500"
            ]
          },
          "metadata": {
            "tags": []
          },
          "execution_count": 22
        }
      ]
    },
    {
      "cell_type": "code",
      "metadata": {
        "id": "odLKMn-5SBAz",
        "colab_type": "code",
        "colab": {}
      },
      "source": [
        "device = torch.device(\"cuda:0\")"
      ],
      "execution_count": 0,
      "outputs": []
    },
    {
      "cell_type": "markdown",
      "metadata": {
        "id": "H9a9PsyF3dqo",
        "colab_type": "text"
      },
      "source": [
        "## Training "
      ]
    },
    {
      "cell_type": "code",
      "metadata": {
        "colab_type": "code",
        "id": "9x221Ya0RBGO",
        "colab": {
          "base_uri": "https://localhost:8080/",
          "height": 68
        },
        "outputId": "98a75de3-e704-4f7b-fbc2-791b49e2f9a2"
      },
      "source": [
        "!chmod +x install_dependencies.sh # make shell script executable\n",
        "!./install_dependencies.sh # run the shell script"
      ],
      "execution_count": 27,
      "outputs": [
        {
          "output_type": "stream",
          "text": [
            "Requirement already satisfied: pyclipper in /usr/local/lib/python3.6/dist-packages (1.1.0.post1)\n",
            "Requirement already satisfied: Polygon3 in /usr/local/lib/python3.6/dist-packages (3.0.8)\n",
            "Requirement already satisfied: colorlog in /usr/local/lib/python3.6/dist-packages (4.0.2)\n"
          ],
          "name": "stdout"
        }
      ]
    },
    {
      "cell_type": "code",
      "metadata": {
        "id": "xD4GuTKC3wXY",
        "colab_type": "code",
        "colab": {
          "base_uri": "https://localhost:8080/",
          "height": 848
        },
        "outputId": "7f4044e1-6199-480d-da74-a947bec5f9a0"
      },
      "source": [
        "!python3 train.py"
      ],
      "execution_count": 0,
      "outputs": [
        {
          "output_type": "stream",
          "text": [
            "make: Entering directory '/content/cloned-repo/pse'\n",
            "make: 'pse.so' is up to date.\n",
            "make: Leaving directory '/content/cloned-repo/pse'\n",
            "2019-11-21 12:17:47 \u001b[32mINFO     \u001b[0m utils.py: logger init finished\u001b[0m\n",
            "2019-11-21 12:17:47 \u001b[32mINFO     \u001b[0m train.py: {'Lambda': 0.7,\n",
            " 'OHEM_ratio': 3,\n",
            " 'backbone': 'resnet18',\n",
            " 'checkpoint': '',\n",
            " 'data_shape': 640,\n",
            " 'display_input_images': False,\n",
            " 'display_interval': 10,\n",
            " 'display_output_images': False,\n",
            " 'end_lr': 1e-07,\n",
            " 'epochs': 5,\n",
            " 'gpu_id': '0',\n",
            " 'lr': 0.0001,\n",
            " 'lr_decay_step': [200, 400],\n",
            " 'lr_gamma': 0.1,\n",
            " 'm': 0.5,\n",
            " 'n': 6,\n",
            " 'output_dir': 'output/psenet_icd2015_resnet152_4gpu_author_crop_adam_MultiStepLR_authorloss',\n",
            " 'pretrained': True,\n",
            " 'restart_training': True,\n",
            " 'scale': 1,\n",
            " 'seed': 2,\n",
            " 'show_images_interval': 50,\n",
            " 'start_epoch': 0,\n",
            " 'testroot': 'Test Set',\n",
            " 'train_batch_size': 4,\n",
            " 'trainroot': 'Training Set',\n",
            " 'warm_up_epoch': 6,\n",
            " 'warm_up_lr': 1e-05,\n",
            " 'weight_decay': 0.0005,\n",
            " 'workers': 12}\u001b[0m\n",
            "2019-11-21 12:17:47 \u001b[32mINFO     \u001b[0m train.py: train with gpu 0 and pytorch 1.3.1\u001b[0m\n",
            "Downloading: \"https://download.pytorch.org/models/resnet18-5c106cde.pth\" to /root/.cache/torch/checkpoints/resnet18-5c106cde.pth\n",
            "100% 44.7M/44.7M [00:01<00:00, 25.1MB/s]\n",
            "2019-11-21 12:17:52 \u001b[32mINFO     \u001b[0m resnet.py: load pretrained models from imagenet\u001b[0m\n",
            "2019-11-21 12:17:57 \u001b[32mINFO     \u001b[0m train.py: train dataset has 12500 samples,3125 in dataloader\u001b[0m\n",
            "/usr/local/lib/python3.6/dist-packages/torch/optim/lr_scheduler.py:100: UserWarning: Detected call of `lr_scheduler.step()` before `optimizer.step()`. In PyTorch 1.1.0 and later, you should call them in the opposite order: `optimizer.step()` before `lr_scheduler.step()`.  Failure to do this will result in PyTorch skipping the first value of the learning rate schedule.See more details at https://pytorch.org/docs/stable/optim.html#how-to-adjust-learning-rate\n",
            "  \"https://pytorch.org/docs/stable/optim.html#how-to-adjust-learning-rate\", UserWarning)\n",
            "2019-11-21 12:18:20 \u001b[32mINFO     \u001b[0m train.py: [0/5], [0/3125], step: 0, 1.739 samples/sec, batch_loss: 0.7061, batch_loss_c: 0.6022, batch_loss_s: 0.9487, time:23.0009, lr:0.0001\u001b[0m\n",
            "2019-11-21 12:18:34 \u001b[32mINFO     \u001b[0m train.py: [0/5], [10/3125], step: 10, 3.032 samples/sec, batch_loss: 0.5318, batch_loss_c: 0.4760, batch_loss_s: 0.6623, time:13.1938, lr:0.0001\u001b[0m\n",
            "2019-11-21 12:18:47 \u001b[32mINFO     \u001b[0m train.py: [0/5], [20/3125], step: 20, 3.030 samples/sec, batch_loss: 0.5043, batch_loss_c: 0.4782, batch_loss_s: 0.5652, time:13.2020, lr:0.0001\u001b[0m\n",
            "2019-11-21 12:19:00 \u001b[32mINFO     \u001b[0m train.py: [0/5], [30/3125], step: 30, 3.009 samples/sec, batch_loss: 0.5215, batch_loss_c: 0.5017, batch_loss_s: 0.5677, time:13.2924, lr:0.0001\u001b[0m\n",
            "2019-11-21 12:19:13 \u001b[32mINFO     \u001b[0m train.py: [0/5], [40/3125], step: 40, 3.020 samples/sec, batch_loss: 0.3157, batch_loss_c: 0.3642, batch_loss_s: 0.2024, time:13.2451, lr:0.0001\u001b[0m\n"
          ],
          "name": "stdout"
        }
      ]
    }
  ]
}