{
  "nbformat": 4,
  "nbformat_minor": 0,
  "metadata": {
    "colab": {
      "name": "PSENet_trial_run.ipynb",
      "provenance": [],
      "collapsed_sections": [],
      "toc_visible": true,
      "include_colab_link": true
    },
    "kernelspec": {
      "name": "python3",
      "display_name": "Python 3"
    },
    "accelerator": "GPU"
  },
  "cells": [
    {
      "cell_type": "markdown",
      "metadata": {
        "id": "view-in-github",
        "colab_type": "text"
      },
      "source": [
        "<a href=\"https://colab.research.google.com/github/kavyajeetbora/PSENet.pytorch/blob/master/PSENet_training.ipynb\" target=\"_parent\"><img src=\"https://colab.research.google.com/assets/colab-badge.svg\" alt=\"Open In Colab\"/></a>"
      ]
    },
    {
      "cell_type": "markdown",
      "metadata": {
        "id": "UByxwp0F3QUp",
        "colab_type": "text"
      },
      "source": [
        "## Installing softwares and other dependencies"
      ]
    },
    {
      "cell_type": "code",
      "metadata": {
        "id": "GSEHnmCxK_o9",
        "colab_type": "code",
        "colab": {}
      },
      "source": [
        "import matplotlib.pyplot as plt\n",
        "import numpy as np\n",
        "\n",
        "import torch\n",
        "from torch import nn\n",
        "import torchvision.transforms as transforms\n",
        "from torch.utils.data import DataLoader, Dataset"
      ],
      "execution_count": 0,
      "outputs": []
    },
    {
      "cell_type": "code",
      "metadata": {
        "id": "y99kqKlHoYkz",
        "colab_type": "code",
        "outputId": "3095e892-e37a-40e2-a2ff-7f2928bb2bf8",
        "colab": {
          "base_uri": "https://localhost:8080/",
          "height": 102
        }
      },
      "source": [
        "!pip install pyclipper"
      ],
      "execution_count": 2,
      "outputs": [
        {
          "output_type": "stream",
          "text": [
            "Collecting pyclipper\n",
            "\u001b[?25l  Downloading https://files.pythonhosted.org/packages/40/67/2691f7cbb28fb9dbf423f2302fe489f9cee34d9a50a743c95032a24ac597/pyclipper-1.1.0.post1-cp36-cp36m-manylinux1_x86_64.whl (129kB)\n",
            "\r\u001b[K     |██▌                             | 10kB 19.9MB/s eta 0:00:01\r\u001b[K     |█████                           | 20kB 3.3MB/s eta 0:00:01\r\u001b[K     |███████▋                        | 30kB 4.8MB/s eta 0:00:01\r\u001b[K     |██████████▏                     | 40kB 3.1MB/s eta 0:00:01\r\u001b[K     |████████████▊                   | 51kB 3.8MB/s eta 0:00:01\r\u001b[K     |███████████████▏                | 61kB 4.6MB/s eta 0:00:01\r\u001b[K     |█████████████████▊              | 71kB 5.2MB/s eta 0:00:01\r\u001b[K     |████████████████████▎           | 81kB 5.9MB/s eta 0:00:01\r\u001b[K     |██████████████████████▉         | 92kB 6.6MB/s eta 0:00:01\r\u001b[K     |█████████████████████████▍      | 102kB 5.1MB/s eta 0:00:01\r\u001b[K     |███████████████████████████▉    | 112kB 5.1MB/s eta 0:00:01\r\u001b[K     |██████████████████████████████▍ | 122kB 5.1MB/s eta 0:00:01\r\u001b[K     |████████████████████████████████| 133kB 5.1MB/s \n",
            "\u001b[?25hInstalling collected packages: pyclipper\n",
            "Successfully installed pyclipper-1.1.0.post1\n"
          ],
          "name": "stdout"
        }
      ]
    },
    {
      "cell_type": "code",
      "metadata": {
        "id": "ncoynOlfnIW1",
        "colab_type": "code",
        "outputId": "9b88f86f-4a2e-4e0f-8141-dc3a03ca4bba",
        "colab": {
          "base_uri": "https://localhost:8080/",
          "height": 122
        }
      },
      "source": [
        "from google.colab import drive\n",
        "drive.mount('/content/drive')"
      ],
      "execution_count": 3,
      "outputs": [
        {
          "output_type": "stream",
          "text": [
            "Go to this URL in a browser: https://accounts.google.com/o/oauth2/auth?client_id=947318989803-6bn6qk8qdgf4n4g3pfee6491hc0brc4i.apps.googleusercontent.com&redirect_uri=urn%3aietf%3awg%3aoauth%3a2.0%3aoob&response_type=code&scope=email%20https%3a%2f%2fwww.googleapis.com%2fauth%2fdocs.test%20https%3a%2f%2fwww.googleapis.com%2fauth%2fdrive%20https%3a%2f%2fwww.googleapis.com%2fauth%2fdrive.photos.readonly%20https%3a%2f%2fwww.googleapis.com%2fauth%2fpeopleapi.readonly\n",
            "\n",
            "Enter your authorization code:\n",
            "··········\n",
            "Mounted at /content/drive\n"
          ],
          "name": "stdout"
        }
      ]
    },
    {
      "cell_type": "code",
      "metadata": {
        "id": "hhJ-6yyXcnRx",
        "colab_type": "code",
        "outputId": "12fd74db-6b38-43d9-9a20-b2f0f87b464a",
        "colab": {
          "base_uri": "https://localhost:8080/",
          "height": 255
        }
      },
      "source": [
        "import shutil, os\n",
        "os.chdir('/content')\n",
        "directory = '/content/cloned-repo'\n",
        "if os.path.exists(directory):\n",
        "  shutil.rmtree(directory)\n",
        "\n",
        "!git clone https://github.com/kavyajeetbora/PSENet.pytorch.git /content/cloned-repo\n",
        "print(\"Cloned the repository\")\n",
        "os.chdir('/content/cloned-repo')\n",
        "!ls"
      ],
      "execution_count": 4,
      "outputs": [
        {
          "output_type": "stream",
          "text": [
            "Cloning into '/content/cloned-repo'...\n",
            "remote: Enumerating objects: 104, done.\u001b[K\n",
            "remote: Counting objects:   0% (1/104)\u001b[K\rremote: Counting objects:   1% (2/104)\u001b[K\rremote: Counting objects:   2% (3/104)\u001b[K\rremote: Counting objects:   3% (4/104)\u001b[K\rremote: Counting objects:   4% (5/104)\u001b[K\rremote: Counting objects:   5% (6/104)\u001b[K\rremote: Counting objects:   6% (7/104)\u001b[K\rremote: Counting objects:   7% (8/104)\u001b[K\rremote: Counting objects:   8% (9/104)\u001b[K\rremote: Counting objects:   9% (10/104)\u001b[K\rremote: Counting objects:  10% (11/104)\u001b[K\rremote: Counting objects:  11% (12/104)\u001b[K\rremote: Counting objects:  12% (13/104)\u001b[K\rremote: Counting objects:  13% (14/104)\u001b[K\rremote: Counting objects:  14% (15/104)\u001b[K\rremote: Counting objects:  15% (16/104)\u001b[K\rremote: Counting objects:  16% (17/104)\u001b[K\rremote: Counting objects:  17% (18/104)\u001b[K\rremote: Counting objects:  18% (19/104)\u001b[K\rremote: Counting objects:  19% (20/104)\u001b[K\rremote: Counting objects:  20% (21/104)\u001b[K\rremote: Counting objects:  21% (22/104)\u001b[K\rremote: Counting objects:  22% (23/104)\u001b[K\rremote: Counting objects:  23% (24/104)\u001b[K\rremote: Counting objects:  24% (25/104)\u001b[K\rremote: Counting objects:  25% (26/104)\u001b[K\rremote: Counting objects:  26% (28/104)\u001b[K\rremote: Counting objects:  27% (29/104)\u001b[K\rremote: Counting objects:  28% (30/104)\u001b[K\rremote: Counting objects:  29% (31/104)\u001b[K\rremote: Counting objects:  30% (32/104)\u001b[K\rremote: Counting objects:  31% (33/104)\u001b[K\rremote: Counting objects:  32% (34/104)\u001b[K\rremote: Counting objects:  33% (35/104)\u001b[K\rremote: Counting objects:  34% (36/104)\u001b[K\rremote: Counting objects:  35% (37/104)\u001b[K\rremote: Counting objects:  36% (38/104)\u001b[K\rremote: Counting objects:  37% (39/104)\u001b[K\rremote: Counting objects:  38% (40/104)\u001b[K\rremote: Counting objects:  39% (41/104)\u001b[K\rremote: Counting objects:  40% (42/104)\u001b[K\rremote: Counting objects:  41% (43/104)\u001b[K\rremote: Counting objects:  42% (44/104)\u001b[K\rremote: Counting objects:  43% (45/104)\u001b[K\rremote: Counting objects:  44% (46/104)\u001b[K\rremote: Counting objects:  45% (47/104)\u001b[K\rremote: Counting objects:  46% (48/104)\u001b[K\rremote: Counting objects:  47% (49/104)\u001b[K\rremote: Counting objects:  48% (50/104)\u001b[K\rremote: Counting objects:  49% (51/104)\u001b[K\rremote: Counting objects:  50% (52/104)\u001b[K\rremote: Counting objects:  51% (54/104)\u001b[K\rremote: Counting objects:  52% (55/104)\u001b[K\rremote: Counting objects:  53% (56/104)\u001b[K\rremote: Counting objects:  54% (57/104)\u001b[K\rremote: Counting objects:  55% (58/104)\u001b[K\rremote: Counting objects:  56% (59/104)\u001b[K\rremote: Counting objects:  57% (60/104)\u001b[K\rremote: Counting objects:  58% (61/104)\u001b[K\rremote: Counting objects:  59% (62/104)\u001b[K\rremote: Counting objects:  60% (63/104)\u001b[K\rremote: Counting objects:  61% (64/104)\u001b[K\rremote: Counting objects:  62% (65/104)\u001b[K\rremote: Counting objects:  63% (66/104)\u001b[K\rremote: Counting objects:  64% (67/104)\u001b[K\rremote: Counting objects:  65% (68/104)\u001b[K\rremote: Counting objects:  66% (69/104)\u001b[K\rremote: Counting objects:  67% (70/104)\u001b[K\rremote: Counting objects:  68% (71/104)\u001b[K\rremote: Counting objects:  69% (72/104)\u001b[K\rremote: Counting objects:  70% (73/104)\u001b[K\rremote: Counting objects:  71% (74/104)\u001b[K\rremote: Counting objects:  72% (75/104)\u001b[K\rremote: Counting objects:  73% (76/104)\u001b[K\rremote: Counting objects:  74% (77/104)\u001b[K\rremote: Counting objects:  75% (78/104)\u001b[K\rremote: Counting objects:  76% (80/104)\u001b[K\rremote: Counting objects:  77% (81/104)\u001b[K\rremote: Counting objects:  78% (82/104)\u001b[K\rremote: Counting objects:  79% (83/104)\u001b[K\rremote: Counting objects:  80% (84/104)\u001b[K\rremote: Counting objects:  81% (85/104)\u001b[K\rremote: Counting objects:  82% (86/104)\u001b[K\rremote: Counting objects:  83% (87/104)\u001b[K\rremote: Counting objects:  84% (88/104)\u001b[K\rremote: Counting objects:  85% (89/104)\u001b[K\rremote: Counting objects:  86% (90/104)\u001b[K\rremote: Counting objects:  87% (91/104)\u001b[K\rremote: Counting objects:  88% (92/104)\u001b[K\rremote: Counting objects:  89% (93/104)\u001b[K\rremote: Counting objects:  90% (94/104)\u001b[K\rremote: Counting objects:  91% (95/104)\u001b[K\rremote: Counting objects:  92% (96/104)\u001b[K\rremote: Counting objects:  93% (97/104)\u001b[K\rremote: Counting objects:  94% (98/104)\u001b[K\rremote: Counting objects:  95% (99/104)\u001b[K\rremote: Counting objects:  96% (100/104)\u001b[K\rremote: Counting objects:  97% (101/104)\u001b[K\rremote: Counting objects:  98% (102/104)\u001b[K\rremote: Counting objects:  99% (103/104)\u001b[K\rremote: Counting objects: 100% (104/104)\u001b[K\rremote: Counting objects: 100% (104/104), done.\u001b[K\n",
            "remote: Compressing objects:   1% (1/97)\u001b[K\rremote: Compressing objects:   2% (2/97)\u001b[K\rremote: Compressing objects:   3% (3/97)\u001b[K\rremote: Compressing objects:   4% (4/97)\u001b[K\rremote: Compressing objects:   5% (5/97)\u001b[K\rremote: Compressing objects:   6% (6/97)\u001b[K\rremote: Compressing objects:   7% (7/97)\u001b[K\rremote: Compressing objects:   8% (8/97)\u001b[K\rremote: Compressing objects:   9% (9/97)\u001b[K\rremote: Compressing objects:  10% (10/97)\u001b[K\rremote: Compressing objects:  11% (11/97)\u001b[K\rremote: Compressing objects:  12% (12/97)\u001b[K\rremote: Compressing objects:  13% (13/97)\u001b[K\rremote: Compressing objects:  14% (14/97)\u001b[K\rremote: Compressing objects:  15% (15/97)\u001b[K\rremote: Compressing objects:  16% (16/97)\u001b[K\rremote: Compressing objects:  17% (17/97)\u001b[K\rremote: Compressing objects:  18% (18/97)\u001b[K\rremote: Compressing objects:  19% (19/97)\u001b[K\rremote: Compressing objects:  20% (20/97)\u001b[K\rremote: Compressing objects:  21% (21/97)\u001b[K\rremote: Compressing objects:  22% (22/97)\u001b[K\rremote: Compressing objects:  23% (23/97)\u001b[K\rremote: Compressing objects:  24% (24/97)\u001b[K\rremote: Compressing objects:  25% (25/97)\u001b[K\rremote: Compressing objects:  26% (26/97)\u001b[K\rremote: Compressing objects:  27% (27/97)\u001b[K\rremote: Compressing objects:  28% (28/97)\u001b[K\rremote: Compressing objects:  29% (29/97)\u001b[K\rremote: Compressing objects:  30% (30/97)\u001b[K\rremote: Compressing objects:  31% (31/97)\u001b[K\rremote: Compressing objects:  32% (32/97)\u001b[K\rremote: Compressing objects:  34% (33/97)\u001b[K\rremote: Compressing objects:  35% (34/97)\u001b[K\rremote: Compressing objects:  36% (35/97)\u001b[K\rremote: Compressing objects:  37% (36/97)\u001b[K\rremote: Compressing objects:  38% (37/97)\u001b[K\rremote: Compressing objects:  39% (38/97)\u001b[K\rremote: Compressing objects:  40% (39/97)\u001b[K\rremote: Compressing objects:  41% (40/97)\u001b[K\rremote: Compressing objects:  42% (41/97)\u001b[K\rremote: Compressing objects:  43% (42/97)\u001b[K\rremote: Compressing objects:  44% (43/97)\u001b[K\rremote: Compressing objects:  45% (44/97)\u001b[K\rremote: Compressing objects:  46% (45/97)\u001b[K\rremote: Compressing objects:  47% (46/97)\u001b[K\rremote: Compressing objects:  48% (47/97)\u001b[K\rremote: Compressing objects:  49% (48/97)\u001b[K\rremote: Compressing objects:  50% (49/97)\u001b[K\rremote: Compressing objects:  51% (50/97)\u001b[K\rremote: Compressing objects:  52% (51/97)\u001b[K\rremote: Compressing objects:  53% (52/97)\u001b[K\rremote: Compressing objects:  54% (53/97)\u001b[K\rremote: Compressing objects:  55% (54/97)\u001b[K\rremote: Compressing objects:  56% (55/97)\u001b[K\rremote: Compressing objects:  57% (56/97)\u001b[K\rremote: Compressing objects:  58% (57/97)\u001b[K\rremote: Compressing objects:  59% (58/97)\u001b[K\rremote: Compressing objects:  60% (59/97)\u001b[K\rremote: Compressing objects:  61% (60/97)\u001b[K\rremote: Compressing objects:  62% (61/97)\u001b[K\rremote: Compressing objects:  63% (62/97)\u001b[K\rremote: Compressing objects:  64% (63/97)\u001b[K\rremote: Compressing objects:  65% (64/97)\u001b[K\rremote: Compressing objects:  67% (65/97)\u001b[K\rremote: Compressing objects:  68% (66/97)\u001b[K\rremote: Compressing objects:  69% (67/97)\u001b[K\rremote: Compressing objects:  70% (68/97)\u001b[K\rremote: Compressing objects:  71% (69/97)\u001b[K\rremote: Compressing objects:  72% (70/97)\u001b[K\rremote: Compressing objects:  73% (71/97)\u001b[K\rremote: Compressing objects:  74% (72/97)\u001b[K\rremote: Compressing objects:  75% (73/97)\u001b[K\rremote: Compressing objects:  76% (74/97)\u001b[K\rremote: Compressing objects:  77% (75/97)\u001b[K\rremote: Compressing objects:  78% (76/97)\u001b[K\rremote: Compressing objects:  79% (77/97)\u001b[K\rremote: Compressing objects:  80% (78/97)\u001b[K\rremote: Compressing objects:  81% (79/97)\u001b[K\rremote: Compressing objects:  82% (80/97)\u001b[K\rremote: Compressing objects:  83% (81/97)\u001b[K\rremote: Compressing objects:  84% (82/97)\u001b[K\rremote: Compressing objects:  85% (83/97)\u001b[K\rremote: Compressing objects:  86% (84/97)\u001b[K\rremote: Compressing objects:  87% (85/97)\u001b[K\rremote: Compressing objects:  88% (86/97)\u001b[K\rremote: Compressing objects:  89% (87/97)\u001b[K\rremote: Compressing objects:  90% (88/97)\u001b[K\rremote: Compressing objects:  91% (89/97)\u001b[K\rremote: Compressing objects:  92% (90/97)\u001b[K\rremote: Compressing objects:  93% (91/97)\u001b[K\rremote: Compressing objects:  94% (92/97)\u001b[K\rremote: Compressing objects:  95% (93/97)\u001b[K\rremote: Compressing objects:  96% (94/97)\u001b[K\rremote: Compressing objects:  97% (95/97)\u001b[K\rremote: Compressing objects:  98% (96/97)\u001b[K\rremote: Compressing objects: 100% (97/97)\u001b[K\rremote: Compressing objects: 100% (97/97), done.\u001b[K\n",
            "Receiving objects:   0% (1/400)   \rReceiving objects:   1% (4/400)   \rReceiving objects:   2% (8/400)   \rReceiving objects:   3% (12/400)   \rReceiving objects:   4% (16/400)   \rReceiving objects:   5% (20/400)   \rReceiving objects:   6% (24/400)   \rReceiving objects:   7% (28/400)   \rReceiving objects:   8% (32/400)   \rReceiving objects:   9% (36/400)   \rReceiving objects:  10% (40/400)   \rReceiving objects:  11% (44/400)   \rReceiving objects:  12% (48/400)   \rReceiving objects:  13% (52/400)   \rReceiving objects:  14% (56/400)   \rReceiving objects:  15% (60/400)   \rReceiving objects:  16% (64/400)   \rReceiving objects:  17% (68/400)   \rReceiving objects:  18% (72/400)   \rReceiving objects:  19% (76/400)   \rReceiving objects:  20% (80/400)   \rReceiving objects:  21% (84/400)   \rReceiving objects:  22% (88/400)   \rReceiving objects:  23% (92/400)   \rReceiving objects:  24% (96/400)   \rReceiving objects:  25% (100/400)   \rReceiving objects:  26% (104/400)   \rReceiving objects:  27% (108/400)   \rReceiving objects:  28% (112/400)   \rReceiving objects:  29% (116/400)   \rReceiving objects:  30% (120/400)   \rReceiving objects:  31% (124/400)   \rReceiving objects:  32% (128/400)   \rReceiving objects:  33% (132/400)   \rReceiving objects:  34% (136/400)   \rReceiving objects:  35% (140/400)   \rReceiving objects:  36% (144/400)   \rReceiving objects:  37% (148/400)   \rReceiving objects:  38% (152/400)   \rReceiving objects:  39% (156/400)   \rReceiving objects:  40% (160/400)   \rReceiving objects:  41% (164/400)   \rReceiving objects:  42% (168/400)   \rReceiving objects:  43% (172/400)   \rReceiving objects:  44% (176/400)   \rReceiving objects:  45% (180/400)   \rReceiving objects:  46% (184/400)   \rReceiving objects:  47% (188/400)   \rReceiving objects:  48% (192/400)   \rReceiving objects:  49% (196/400)   \rReceiving objects:  50% (200/400)   \rReceiving objects:  51% (204/400)   \rReceiving objects:  52% (208/400)   \rReceiving objects:  53% (212/400)   \rReceiving objects:  54% (216/400)   \rReceiving objects:  55% (220/400)   \rReceiving objects:  56% (224/400)   \rReceiving objects:  57% (228/400)   \rReceiving objects:  58% (232/400)   \rReceiving objects:  59% (236/400)   \rReceiving objects:  60% (240/400)   \rReceiving objects:  61% (244/400)   \rReceiving objects:  62% (248/400)   \rReceiving objects:  63% (252/400)   \rReceiving objects:  64% (256/400)   \rReceiving objects:  65% (260/400)   \rReceiving objects:  66% (264/400)   \rReceiving objects:  67% (268/400)   \rReceiving objects:  68% (272/400)   \rremote: Total 400 (delta 59), reused 16 (delta 7), pack-reused 296\u001b[K\n",
            "Receiving objects:  69% (276/400)   \rReceiving objects:  70% (280/400)   \rReceiving objects:  71% (284/400)   \rReceiving objects:  72% (288/400)   \rReceiving objects:  73% (292/400)   \rReceiving objects:  74% (296/400)   \rReceiving objects:  75% (300/400)   \rReceiving objects:  76% (304/400)   \rReceiving objects:  77% (308/400)   \rReceiving objects:  78% (312/400)   \rReceiving objects:  79% (316/400)   \rReceiving objects:  80% (320/400)   \rReceiving objects:  81% (324/400)   \rReceiving objects:  82% (328/400)   \rReceiving objects:  83% (332/400)   \rReceiving objects:  84% (336/400)   \rReceiving objects:  85% (340/400)   \rReceiving objects:  86% (344/400)   \rReceiving objects:  87% (348/400)   \rReceiving objects:  88% (352/400)   \rReceiving objects:  89% (356/400)   \rReceiving objects:  90% (360/400)   \rReceiving objects:  91% (364/400)   \rReceiving objects:  92% (368/400)   \rReceiving objects:  93% (372/400)   \rReceiving objects:  94% (376/400)   \rReceiving objects:  95% (380/400)   \rReceiving objects:  96% (384/400)   \rReceiving objects:  97% (388/400)   \rReceiving objects:  98% (392/400)   \rReceiving objects:  99% (396/400)   \rReceiving objects: 100% (400/400)   \rReceiving objects: 100% (400/400), 8.14 MiB | 17.05 MiB/s, done.\n",
            "Resolving deltas:   0% (0/185)   \rResolving deltas:   1% (3/185)   \rResolving deltas:   4% (8/185)   \rResolving deltas:   5% (11/185)   \rResolving deltas:  11% (22/185)   \rResolving deltas:  16% (30/185)   \rResolving deltas:  17% (33/185)   \rResolving deltas:  18% (34/185)   \rResolving deltas:  20% (38/185)   \rResolving deltas:  23% (43/185)   \rResolving deltas:  24% (46/185)   \rResolving deltas:  25% (47/185)   \rResolving deltas:  28% (52/185)   \rResolving deltas:  32% (61/185)   \rResolving deltas:  33% (62/185)   \rResolving deltas:  34% (63/185)   \rResolving deltas:  35% (65/185)   \rResolving deltas:  38% (72/185)   \rResolving deltas:  39% (73/185)   \rResolving deltas:  40% (75/185)   \rResolving deltas:  46% (86/185)   \rResolving deltas:  47% (87/185)   \rResolving deltas:  49% (91/185)   \rResolving deltas:  52% (97/185)   \rResolving deltas:  53% (99/185)   \rResolving deltas:  55% (102/185)   \rResolving deltas:  56% (104/185)   \rResolving deltas:  59% (110/185)   \rResolving deltas:  60% (112/185)   \rResolving deltas:  61% (114/185)   \rResolving deltas:  63% (117/185)   \rResolving deltas:  64% (120/185)   \rResolving deltas:  65% (121/185)   \rResolving deltas:  66% (123/185)   \rResolving deltas:  67% (125/185)   \rResolving deltas:  82% (152/185)   \rResolving deltas:  83% (155/185)   \rResolving deltas:  84% (156/185)   \rResolving deltas:  85% (158/185)   \rResolving deltas:  87% (162/185)   \rResolving deltas:  91% (169/185)   \rResolving deltas:  95% (176/185)   \rResolving deltas:  96% (179/185)   \rResolving deltas:  98% (182/185)   \rResolving deltas:  99% (184/185)   \rResolving deltas: 100% (185/185)   \rResolving deltas: 100% (185/185), done.\n",
            "Cloned the repository\n",
            "cal_recall\t\t LICENSE\t\tPSENet_trial_run.ipynb\n",
            "config.py\t\t models\t\t\tREADME.md\n",
            "dataset\t\t\t predict.py\t\ttrain.py\n",
            "eval.py\t\t\t pse\t\t\tutils\n",
            "imgs\t\t\t PSENet.ipynb\n",
            "install_dependencies.sh  PSENet_training.ipynb\n"
          ],
          "name": "stdout"
        }
      ]
    },
    {
      "cell_type": "markdown",
      "metadata": {
        "id": "PrOmfo6_3X2I",
        "colab_type": "text"
      },
      "source": [
        "## Extracting the data and setting up the dataset"
      ]
    },
    {
      "cell_type": "code",
      "metadata": {
        "id": "dGLMxTujlm0w",
        "colab_type": "code",
        "colab": {}
      },
      "source": [
        "## unzipping the files\n",
        "from zipfile import ZipFile\n",
        "\n",
        "def unzip_files(file,output_dir):\n",
        "  with ZipFile(file, 'r') as zipObj:\n",
        "    # Extract all the contents of zip file in current directory\n",
        "    zipObj.extractall(output_dir)\n",
        "  print('Extracted to',output_dir)\n",
        "\n",
        "def make_directory(directory):\n",
        "  if os.path.isdir(directory):\n",
        "    shutil.rmtree(directory)\n",
        "  \n",
        "  os.mkdir(directory)\n",
        "  print('Created a new directory')\n",
        "\n",
        "training_data_zip = '/content/drive/My Drive/Colab Notebooks/padh.ai.notebooks/15. Object Detection/AI4Bharat Dataset/Training Set/Random 5000.zip'\n",
        "test_data_zip = '/content/drive/My Drive/Colab Notebooks/padh.ai.notebooks/15. Object Detection/AI4Bharat Dataset/Test Set/real_Image_dataset_Detection.zip'"
      ],
      "execution_count": 0,
      "outputs": []
    },
    {
      "cell_type": "code",
      "metadata": {
        "id": "FqJ6xb5u2dgg",
        "colab_type": "code",
        "outputId": "5d30fb08-aed0-4da9-b2f3-e1bcef8d1e91",
        "colab": {
          "base_uri": "https://localhost:8080/",
          "height": 51
        }
      },
      "source": [
        "# make directories\n",
        "make_directory('Training Set')\n",
        "make_directory('Test Set')"
      ],
      "execution_count": 6,
      "outputs": [
        {
          "output_type": "stream",
          "text": [
            "Created a new directory\n",
            "Created a new directory\n"
          ],
          "name": "stdout"
        }
      ]
    },
    {
      "cell_type": "code",
      "metadata": {
        "id": "FFSaSXr-m-K4",
        "colab_type": "code",
        "outputId": "bce9d299-a1e1-47c8-c248-7d2c06d57e0a",
        "colab": {
          "base_uri": "https://localhost:8080/",
          "height": 68
        }
      },
      "source": [
        "%%time\n",
        "unzip_files(training_data_zip,'Training Set')"
      ],
      "execution_count": 7,
      "outputs": [
        {
          "output_type": "stream",
          "text": [
            "Extracted to Training Set\n",
            "CPU times: user 3.37 s, sys: 1.26 s, total: 4.63 s\n",
            "Wall time: 8.41 s\n"
          ],
          "name": "stdout"
        }
      ]
    },
    {
      "cell_type": "code",
      "metadata": {
        "id": "MxPn5aW9nSxu",
        "colab_type": "code",
        "outputId": "1e3916e8-e9ff-444b-b724-2042379d5ac9",
        "colab": {
          "base_uri": "https://localhost:8080/",
          "height": 68
        }
      },
      "source": [
        "%%time\n",
        "unzip_files(test_data_zip,'Test Set')"
      ],
      "execution_count": 8,
      "outputs": [
        {
          "output_type": "stream",
          "text": [
            "Extracted to Test Set\n",
            "CPU times: user 453 ms, sys: 94.4 ms, total: 547 ms\n",
            "Wall time: 2.36 s\n"
          ],
          "name": "stdout"
        }
      ]
    },
    {
      "cell_type": "code",
      "metadata": {
        "id": "YRSeyluknVH4",
        "colab_type": "code",
        "outputId": "42dc8030-21d9-4a38-b595-b43a5531b062",
        "colab": {
          "base_uri": "https://localhost:8080/",
          "height": 34
        }
      },
      "source": [
        "print(len(os.listdir('Training Set/Images')))"
      ],
      "execution_count": 9,
      "outputs": [
        {
          "output_type": "stream",
          "text": [
            "12500\n"
          ],
          "name": "stdout"
        }
      ]
    },
    {
      "cell_type": "code",
      "metadata": {
        "id": "MOp4JsZ6nXvn",
        "colab_type": "code",
        "outputId": "68716b1d-ed35-4406-8f92-4e9e3e39147f",
        "colab": {
          "base_uri": "https://localhost:8080/",
          "height": 34
        }
      },
      "source": [
        "print(len(os.listdir('Training Set/Annotations')))"
      ],
      "execution_count": 11,
      "outputs": [
        {
          "output_type": "stream",
          "text": [
            "12500\n"
          ],
          "name": "stdout"
        }
      ]
    },
    {
      "cell_type": "code",
      "metadata": {
        "id": "mhvg89mXn8zG",
        "colab_type": "code",
        "colab": {}
      },
      "source": [
        "from dataset.data_utils import *\n",
        "from torchvision import transforms\n",
        "from torch.utils.data import DataLoader, Dataset"
      ],
      "execution_count": 0,
      "outputs": []
    },
    {
      "cell_type": "code",
      "metadata": {
        "id": "4JeHTz3G6Lyj",
        "colab_type": "code",
        "outputId": "1d46e521-c42c-45a6-896b-32d05afb7739",
        "colab": {
          "base_uri": "https://localhost:8080/",
          "height": 34
        }
      },
      "source": [
        "train_data = MyDataset('Training Set',transform=transforms.ToTensor())\n",
        "len(train_data)"
      ],
      "execution_count": 13,
      "outputs": [
        {
          "output_type": "execute_result",
          "data": {
            "text/plain": [
              "12500"
            ]
          },
          "metadata": {
            "tags": []
          },
          "execution_count": 13
        }
      ]
    },
    {
      "cell_type": "code",
      "metadata": {
        "id": "odLKMn-5SBAz",
        "colab_type": "code",
        "colab": {}
      },
      "source": [
        "device = torch.device(\"cuda:0\")"
      ],
      "execution_count": 0,
      "outputs": []
    },
    {
      "cell_type": "markdown",
      "metadata": {
        "id": "H9a9PsyF3dqo",
        "colab_type": "text"
      },
      "source": [
        "## Training "
      ]
    },
    {
      "cell_type": "code",
      "metadata": {
        "colab_type": "code",
        "id": "9x221Ya0RBGO",
        "outputId": "cedab894-66d6-4666-a2ce-821cfe68d68c",
        "colab": {
          "base_uri": "https://localhost:8080/",
          "height": 272
        }
      },
      "source": [
        "!chmod +x install_dependencies.sh # make shell script executable\n",
        "!./install_dependencies.sh # run the shell script"
      ],
      "execution_count": 15,
      "outputs": [
        {
          "output_type": "stream",
          "text": [
            "Requirement already satisfied: pyclipper in /usr/local/lib/python3.6/dist-packages (1.1.0.post1)\n",
            "Collecting Polygon3\n",
            "\u001b[?25l  Downloading https://files.pythonhosted.org/packages/73/a0/d07a4f3e80ed7020a33f3111db217f54ac44a485ff45da3c21ce49f65041/Polygon3-3.0.8.tar.gz (71kB)\n",
            "\u001b[K     |████████████████████████████████| 71kB 3.5MB/s \n",
            "\u001b[?25hBuilding wheels for collected packages: Polygon3\n",
            "  Building wheel for Polygon3 (setup.py) ... \u001b[?25l\u001b[?25hdone\n",
            "  Created wheel for Polygon3: filename=Polygon3-3.0.8-cp36-cp36m-linux_x86_64.whl size=101489 sha256=4e7aff6554a06de48be8ffb1a8ad8518146aa4cbebb3115f90ee6afa6faeb967\n",
            "  Stored in directory: /root/.cache/pip/wheels/95/32/f1/5525b233996d9d99cbce2f0a8da60d137ddddc555d3e8b0e2a\n",
            "Successfully built Polygon3\n",
            "Installing collected packages: Polygon3\n",
            "Successfully installed Polygon3-3.0.8\n",
            "Collecting colorlog\n",
            "  Downloading https://files.pythonhosted.org/packages/68/4d/892728b0c14547224f0ac40884e722a3d00cb54e7a146aea0b3186806c9e/colorlog-4.0.2-py2.py3-none-any.whl\n",
            "Installing collected packages: colorlog\n",
            "Successfully installed colorlog-4.0.2\n"
          ],
          "name": "stdout"
        }
      ]
    },
    {
      "cell_type": "code",
      "metadata": {
        "id": "xD4GuTKC3wXY",
        "colab_type": "code",
        "outputId": "865a54ba-b3ed-44a2-cbc4-65d200a02ef2",
        "colab": {
          "base_uri": "https://localhost:8080/",
          "height": 782
        }
      },
      "source": [
        "!python3 train.py"
      ],
      "execution_count": 16,
      "outputs": [
        {
          "output_type": "stream",
          "text": [
            "make: Entering directory '/content/cloned-repo/pse'\n",
            "make: 'pse.so' is up to date.\n",
            "make: Leaving directory '/content/cloned-repo/pse'\n",
            "2019-11-22 05:17:23 \u001b[32mINFO     \u001b[0m utils.py: logger init finished\u001b[0m\n",
            "2019-11-22 05:17:23 \u001b[32mINFO     \u001b[0m train.py: {'Lambda': 0.7,\n",
            " 'OHEM_ratio': 3,\n",
            " 'backbone': 'resnet18',\n",
            " 'checkpoint': '',\n",
            " 'data_shape': 640,\n",
            " 'display_input_images': False,\n",
            " 'display_interval': 10,\n",
            " 'display_output_images': False,\n",
            " 'end_lr': 1e-07,\n",
            " 'epochs': 5,\n",
            " 'gpu_id': '0',\n",
            " 'lr': 0.0001,\n",
            " 'lr_decay_step': [200, 400],\n",
            " 'lr_gamma': 0.1,\n",
            " 'm': 0.5,\n",
            " 'n': 6,\n",
            " 'output_dir': '/content/drive/My Drive',\n",
            " 'pretrained': True,\n",
            " 'restart_training': True,\n",
            " 'scale': 1,\n",
            " 'seed': 2,\n",
            " 'show_images_interval': 50,\n",
            " 'start_epoch': 0,\n",
            " 'testroot': 'Test Set',\n",
            " 'train_batch_size': 4,\n",
            " 'trainroot': 'Training Set',\n",
            " 'warm_up_epoch': 6,\n",
            " 'warm_up_lr': 1e-05,\n",
            " 'weight_decay': 0.0005,\n",
            " 'workers': 12}\u001b[0m\n",
            "2019-11-22 05:17:23 \u001b[32mINFO     \u001b[0m train.py: train with gpu 0 and pytorch 1.3.1\u001b[0m\n",
            "Downloading: \"https://download.pytorch.org/models/resnet18-5c106cde.pth\" to /root/.cache/torch/checkpoints/resnet18-5c106cde.pth\n",
            "100% 44.7M/44.7M [00:01<00:00, 34.5MB/s]\n",
            "2019-11-22 05:17:26 \u001b[32mINFO     \u001b[0m resnet.py: load pretrained models from imagenet\u001b[0m\n",
            "2019-11-22 05:17:32 \u001b[32mINFO     \u001b[0m train.py: train dataset has 12500 samples,3125 in dataloader\u001b[0m\n",
            "Traceback (most recent call last):\n",
            "  File \"train.py\", line 168, in <module>\n",
            "    main()\n",
            "  File \"train.py\", line 150, in main\n",
            "    writer, logger)\n",
            "NameError: name 'writer' is not defined\n"
          ],
          "name": "stdout"
        }
      ]
    }
  ]
}