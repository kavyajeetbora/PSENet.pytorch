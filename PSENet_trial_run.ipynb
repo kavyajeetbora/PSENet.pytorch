{
  "nbformat": 4,
  "nbformat_minor": 0,
  "metadata": {
    "colab": {
      "name": "PSENet_trial_run.ipynb",
      "provenance": [],
      "collapsed_sections": [],
      "include_colab_link": true
    },
    "kernelspec": {
      "name": "python3",
      "display_name": "Python 3"
    },
    "accelerator": "GPU"
  },
  "cells": [
    {
      "cell_type": "markdown",
      "metadata": {
        "id": "view-in-github",
        "colab_type": "text"
      },
      "source": [
        "<a href=\"https://colab.research.google.com/github/kavyajeetbora/PSENet.pytorch/blob/master/PSENet_trial_run.ipynb\" target=\"_parent\"><img src=\"https://colab.research.google.com/assets/colab-badge.svg\" alt=\"Open In Colab\"/></a>"
      ]
    },
    {
      "cell_type": "code",
      "metadata": {
        "id": "GSEHnmCxK_o9",
        "colab_type": "code",
        "colab": {}
      },
      "source": [
        "import matplotlib.pyplot as plt\n",
        "import numpy as np\n",
        "\n",
        "import torch\n",
        "from torch import nn\n",
        "import torchvision.transforms as transforms\n",
        "from torch.utils.data import DataLoader, Dataset"
      ],
      "execution_count": 0,
      "outputs": []
    },
    {
      "cell_type": "code",
      "metadata": {
        "id": "y99kqKlHoYkz",
        "colab_type": "code",
        "outputId": "f05b9355-8ef3-4885-dd1a-205c249fc402",
        "colab": {
          "base_uri": "https://localhost:8080/",
          "height": 102
        }
      },
      "source": [
        "!pip install pyclipper"
      ],
      "execution_count": 2,
      "outputs": [
        {
          "output_type": "stream",
          "text": [
            "Collecting pyclipper\n",
            "\u001b[?25l  Downloading https://files.pythonhosted.org/packages/40/67/2691f7cbb28fb9dbf423f2302fe489f9cee34d9a50a743c95032a24ac597/pyclipper-1.1.0.post1-cp36-cp36m-manylinux1_x86_64.whl (129kB)\n",
            "\r\u001b[K     |██▌                             | 10kB 25.3MB/s eta 0:00:01\r\u001b[K     |█████                           | 20kB 3.1MB/s eta 0:00:01\r\u001b[K     |███████▋                        | 30kB 4.5MB/s eta 0:00:01\r\u001b[K     |██████████▏                     | 40kB 2.9MB/s eta 0:00:01\r\u001b[K     |████████████▊                   | 51kB 3.6MB/s eta 0:00:01\r\u001b[K     |███████████████▏                | 61kB 4.3MB/s eta 0:00:01\r\u001b[K     |█████████████████▊              | 71kB 5.0MB/s eta 0:00:01\r\u001b[K     |████████████████████▎           | 81kB 5.6MB/s eta 0:00:01\r\u001b[K     |██████████████████████▉         | 92kB 6.3MB/s eta 0:00:01\r\u001b[K     |█████████████████████████▍      | 102kB 4.9MB/s eta 0:00:01\r\u001b[K     |███████████████████████████▉    | 112kB 4.9MB/s eta 0:00:01\r\u001b[K     |██████████████████████████████▍ | 122kB 4.9MB/s eta 0:00:01\r\u001b[K     |████████████████████████████████| 133kB 4.9MB/s \n",
            "\u001b[?25hInstalling collected packages: pyclipper\n",
            "Successfully installed pyclipper-1.1.0.post1\n"
          ],
          "name": "stdout"
        }
      ]
    },
    {
      "cell_type": "code",
      "metadata": {
        "id": "ncoynOlfnIW1",
        "colab_type": "code",
        "outputId": "332cb89c-e1cf-41d6-a1f3-742ab8cf7a19",
        "colab": {
          "base_uri": "https://localhost:8080/",
          "height": 122
        }
      },
      "source": [
        "from google.colab import drive\n",
        "drive.mount('/content/drive')"
      ],
      "execution_count": 3,
      "outputs": [
        {
          "output_type": "stream",
          "text": [
            "Go to this URL in a browser: https://accounts.google.com/o/oauth2/auth?client_id=947318989803-6bn6qk8qdgf4n4g3pfee6491hc0brc4i.apps.googleusercontent.com&redirect_uri=urn%3aietf%3awg%3aoauth%3a2.0%3aoob&response_type=code&scope=email%20https%3a%2f%2fwww.googleapis.com%2fauth%2fdocs.test%20https%3a%2f%2fwww.googleapis.com%2fauth%2fdrive%20https%3a%2f%2fwww.googleapis.com%2fauth%2fdrive.photos.readonly%20https%3a%2f%2fwww.googleapis.com%2fauth%2fpeopleapi.readonly\n",
            "\n",
            "Enter your authorization code:\n",
            "··········\n",
            "Mounted at /content/drive\n"
          ],
          "name": "stdout"
        }
      ]
    },
    {
      "cell_type": "code",
      "metadata": {
        "id": "hhJ-6yyXcnRx",
        "colab_type": "code",
        "outputId": "ba8d2301-a620-4d88-9a75-b79abe2cb834",
        "colab": {
          "base_uri": "https://localhost:8080/",
          "height": 238
        }
      },
      "source": [
        "import shutil, os\n",
        "os.chdir('/content')\n",
        "directory = '/content/cloned-repo'\n",
        "if os.path.exists(directory):\n",
        "  shutil.rmtree(directory)\n",
        "\n",
        "!git clone https://github.com/kavyajeetbora/PSENet.pytorch.git /content/cloned-repo\n",
        "print(\"Cloned the repository\")\n",
        "os.chdir('/content/cloned-repo')\n",
        "!ls"
      ],
      "execution_count": 4,
      "outputs": [
        {
          "output_type": "stream",
          "text": [
            "Cloning into '/content/cloned-repo'...\n",
            "remote: Enumerating objects: 147, done.\u001b[K\n",
            "remote: Counting objects:   0% (1/147)\u001b[K\rremote: Counting objects:   1% (2/147)\u001b[K\rremote: Counting objects:   2% (3/147)\u001b[K\rremote: Counting objects:   3% (5/147)\u001b[K\rremote: Counting objects:   4% (6/147)\u001b[K\rremote: Counting objects:   5% (8/147)\u001b[K\rremote: Counting objects:   6% (9/147)\u001b[K\rremote: Counting objects:   7% (11/147)\u001b[K\rremote: Counting objects:   8% (12/147)\u001b[K\rremote: Counting objects:   9% (14/147)\u001b[K\rremote: Counting objects:  10% (15/147)\u001b[K\rremote: Counting objects:  11% (17/147)\u001b[K\rremote: Counting objects:  12% (18/147)\u001b[K\rremote: Counting objects:  13% (20/147)\u001b[K\rremote: Counting objects:  14% (21/147)\u001b[K\rremote: Counting objects:  15% (23/147)\u001b[K\rremote: Counting objects:  16% (24/147)\u001b[K\rremote: Counting objects:  17% (25/147)\u001b[K\rremote: Counting objects:  18% (27/147)\u001b[K\rremote: Counting objects:  19% (28/147)\u001b[K\rremote: Counting objects:  20% (30/147)\u001b[K\rremote: Counting objects:  21% (31/147)\u001b[K\rremote: Counting objects:  22% (33/147)\u001b[K\rremote: Counting objects:  23% (34/147)\u001b[K\rremote: Counting objects:  24% (36/147)\u001b[K\rremote: Counting objects:  25% (37/147)\u001b[K\rremote: Counting objects:  26% (39/147)\u001b[K\rremote: Counting objects:  27% (40/147)\u001b[K\rremote: Counting objects:  28% (42/147)\u001b[K\rremote: Counting objects:  29% (43/147)\u001b[K\rremote: Counting objects:  30% (45/147)\u001b[K\rremote: Counting objects:  31% (46/147)\u001b[K\rremote: Counting objects:  32% (48/147)\u001b[K\rremote: Counting objects:  33% (49/147)\u001b[K\rremote: Counting objects:  34% (50/147)\u001b[K\rremote: Counting objects:  35% (52/147)\u001b[K\rremote: Counting objects:  36% (53/147)\u001b[K\rremote: Counting objects:  37% (55/147)\u001b[K\rremote: Counting objects:  38% (56/147)\u001b[K\rremote: Counting objects:  39% (58/147)\u001b[K\rremote: Counting objects:  40% (59/147)\u001b[K\rremote: Counting objects:  41% (61/147)\u001b[K\rremote: Counting objects:  42% (62/147)\u001b[K\rremote: Counting objects:  43% (64/147)\u001b[K\rremote: Counting objects:  44% (65/147)\u001b[K\rremote: Counting objects:  45% (67/147)\u001b[K\rremote: Counting objects:  46% (68/147)\u001b[K\rremote: Counting objects:  47% (70/147)\u001b[K\rremote: Counting objects:  48% (71/147)\u001b[K\rremote: Counting objects:  49% (73/147)\u001b[K\rremote: Counting objects:  50% (74/147)\u001b[K\rremote: Counting objects:  51% (75/147)\u001b[K\rremote: Counting objects:  52% (77/147)\u001b[K\rremote: Counting objects:  53% (78/147)\u001b[K\rremote: Counting objects:  54% (80/147)\u001b[K\rremote: Counting objects:  55% (81/147)\u001b[K\rremote: Counting objects:  56% (83/147)\u001b[K\rremote: Counting objects:  57% (84/147)\u001b[K\rremote: Counting objects:  58% (86/147)\u001b[K\rremote: Counting objects:  59% (87/147)\u001b[K\rremote: Counting objects:  60% (89/147)\u001b[K\rremote: Counting objects:  61% (90/147)\u001b[K\rremote: Counting objects:  62% (92/147)\u001b[K\rremote: Counting objects:  63% (93/147)\u001b[K\rremote: Counting objects:  64% (95/147)\u001b[K\rremote: Counting objects:  65% (96/147)\u001b[K\rremote: Counting objects:  66% (98/147)\u001b[K\rremote: Counting objects:  67% (99/147)\u001b[K\rremote: Counting objects:  68% (100/147)\u001b[K\rremote: Counting objects:  69% (102/147)\u001b[K\rremote: Counting objects:  70% (103/147)\u001b[K\rremote: Counting objects:  71% (105/147)\u001b[K\rremote: Counting objects:  72% (106/147)\u001b[K\rremote: Counting objects:  73% (108/147)\u001b[K\rremote: Counting objects:  74% (109/147)\u001b[K\rremote: Counting objects:  75% (111/147)\u001b[K\rremote: Counting objects:  76% (112/147)\u001b[K\rremote: Counting objects:  77% (114/147)\u001b[K\rremote: Counting objects:  78% (115/147)\u001b[K\rremote: Counting objects:  79% (117/147)\u001b[K\rremote: Counting objects:  80% (118/147)\u001b[K\rremote: Counting objects:  81% (120/147)\u001b[K\rremote: Counting objects:  82% (121/147)\u001b[K\rremote: Counting objects:  83% (123/147)\u001b[K\rremote: Counting objects:  84% (124/147)\u001b[K\rremote: Counting objects:  85% (125/147)\u001b[K\rremote: Counting objects:  86% (127/147)\u001b[K\rremote: Counting objects:  87% (128/147)\u001b[K\rremote: Counting objects:  88% (130/147)\u001b[K\rremote: Counting objects:  89% (131/147)\u001b[K\rremote: Counting objects:  90% (133/147)\u001b[K\rremote: Counting objects:  91% (134/147)\u001b[K\rremote: Counting objects:  92% (136/147)\u001b[K\rremote: Counting objects:  93% (137/147)\u001b[K\rremote: Counting objects:  94% (139/147)\u001b[K\rremote: Counting objects:  95% (140/147)\u001b[K\rremote: Counting objects:  96% (142/147)\u001b[K\rremote: Counting objects:  97% (143/147)\u001b[K\rremote: Counting objects:  98% (145/147)\u001b[K\rremote: Counting objects:  99% (146/147)\u001b[K\rremote: Counting objects: 100% (147/147)\u001b[K\rremote: Counting objects: 100% (147/147), done.\u001b[K\n",
            "remote: Compressing objects:   0% (1/147)\u001b[K\rremote: Compressing objects:   1% (2/147)\u001b[K\rremote: Compressing objects:   2% (3/147)\u001b[K\rremote: Compressing objects:   3% (5/147)\u001b[K\rremote: Compressing objects:   4% (6/147)\u001b[K\rremote: Compressing objects:   5% (8/147)\u001b[K\rremote: Compressing objects:   6% (9/147)\u001b[K\rremote: Compressing objects:   7% (11/147)\u001b[K\rremote: Compressing objects:   8% (12/147)\u001b[K\rremote: Compressing objects:   9% (14/147)\u001b[K\rremote: Compressing objects:  10% (15/147)\u001b[K\rremote: Compressing objects:  11% (17/147)\u001b[K\rremote: Compressing objects:  12% (18/147)\u001b[K\rremote: Compressing objects:  13% (20/147)\u001b[K\rremote: Compressing objects:  14% (21/147)\u001b[K\rremote: Compressing objects:  15% (23/147)\u001b[K\rremote: Compressing objects:  16% (24/147)\u001b[K\rremote: Compressing objects:  17% (25/147)\u001b[K\rremote: Compressing objects:  18% (27/147)\u001b[K\rremote: Compressing objects:  19% (28/147)\u001b[K\rremote: Compressing objects:  20% (30/147)\u001b[K\rremote: Compressing objects:  21% (31/147)\u001b[K\rremote: Compressing objects:  22% (33/147)\u001b[K\rremote: Compressing objects:  23% (34/147)\u001b[K\rremote: Compressing objects:  24% (36/147)\u001b[K\rremote: Compressing objects:  25% (37/147)\u001b[K\rremote: Compressing objects:  26% (39/147)\u001b[K\rremote: Compressing objects:  27% (40/147)\u001b[K\rremote: Compressing objects:  28% (42/147)\u001b[K\rremote: Compressing objects:  29% (43/147)\u001b[K\rremote: Compressing objects:  30% (45/147)\u001b[K\rremote: Compressing objects:  31% (46/147)\u001b[K\rremote: Compressing objects:  32% (48/147)\u001b[K\rremote: Compressing objects:  33% (49/147)\u001b[K\rremote: Compressing objects:  34% (50/147)\u001b[K\rremote: Compressing objects:  35% (52/147)\u001b[K\rremote: Compressing objects:  36% (53/147)\u001b[K\rremote: Compressing objects:  37% (55/147)\u001b[K\rremote: Compressing objects:  38% (56/147)\u001b[K\rremote: Compressing objects:  39% (58/147)\u001b[K\rremote: Compressing objects:  40% (59/147)\u001b[K\rremote: Compressing objects:  41% (61/147)\u001b[K\rremote: Compressing objects:  42% (62/147)\u001b[K\rremote: Compressing objects:  43% (64/147)\u001b[K\rremote: Compressing objects:  44% (65/147)\u001b[K\rremote: Compressing objects:  45% (67/147)\u001b[K\rremote: Compressing objects:  46% (68/147)\u001b[K\rremote: Compressing objects:  47% (70/147)\u001b[K\rremote: Compressing objects:  48% (71/147)\u001b[K\rremote: Compressing objects:  49% (73/147)\u001b[K\rremote: Compressing objects:  50% (74/147)\u001b[K\rremote: Compressing objects:  51% (75/147)\u001b[K\rremote: Compressing objects:  52% (77/147)\u001b[K\rremote: Compressing objects:  53% (78/147)\u001b[K\rremote: Compressing objects:  54% (80/147)\u001b[K\rremote: Compressing objects:  55% (81/147)\u001b[K\rremote: Compressing objects:  56% (83/147)\u001b[K\rremote: Compressing objects:  57% (84/147)\u001b[K\rremote: Compressing objects:  58% (86/147)\u001b[K\rremote: Compressing objects:  59% (87/147)\u001b[K\rremote: Compressing objects:  60% (89/147)\u001b[K\rremote: Compressing objects:  61% (90/147)\u001b[K\rremote: Compressing objects:  62% (92/147)\u001b[K\rremote: Compressing objects:  63% (93/147)\u001b[K\rremote: Compressing objects:  64% (95/147)\u001b[K\rremote: Compressing objects:  65% (96/147)\u001b[K\rremote: Compressing objects:  66% (98/147)\u001b[K\rremote: Compressing objects:  67% (99/147)\u001b[K\rremote: Compressing objects:  68% (100/147)\u001b[K\rremote: Compressing objects:  69% (102/147)\u001b[K\rremote: Compressing objects:  70% (103/147)\u001b[K\rremote: Compressing objects:  71% (105/147)\u001b[K\rremote: Compressing objects:  72% (106/147)\u001b[K\rremote: Compressing objects:  73% (108/147)\u001b[K\rremote: Compressing objects:  74% (109/147)\u001b[K\rremote: Compressing objects:  75% (111/147)\u001b[K\rremote: Compressing objects:  76% (112/147)\u001b[K\rremote: Compressing objects:  77% (114/147)\u001b[K\rremote: Compressing objects:  78% (115/147)\u001b[K\rremote: Compressing objects:  79% (117/147)\u001b[K\rremote: Compressing objects:  80% (118/147)\u001b[K\rremote: Compressing objects:  81% (120/147)\u001b[K\rremote: Compressing objects:  82% (121/147)\u001b[K\rremote: Compressing objects:  83% (123/147)\u001b[K\rremote: Compressing objects:  84% (124/147)\u001b[K\rremote: Compressing objects:  85% (125/147)\u001b[K\rremote: Compressing objects:  86% (127/147)\u001b[K\rremote: Compressing objects:  87% (128/147)\u001b[K\rremote: Compressing objects:  88% (130/147)\u001b[K\rremote: Compressing objects:  89% (131/147)\u001b[K\rremote: Compressing objects:  90% (133/147)\u001b[K\rremote: Compressing objects:  91% (134/147)\u001b[K\rremote: Compressing objects:  92% (136/147)\u001b[K\rremote: Compressing objects:  93% (137/147)\u001b[K\rremote: Compressing objects:  94% (139/147)\u001b[K\rremote: Compressing objects:  95% (140/147)\u001b[K\rremote: Compressing objects:  96% (142/147)\u001b[K\rremote: Compressing objects:  97% (143/147)\u001b[K\rremote: Compressing objects:  98% (145/147)\u001b[K\rremote: Compressing objects:  99% (146/147)\u001b[K\rremote: Compressing objects: 100% (147/147)\u001b[K\rremote: Compressing objects: 100% (147/147), done.\u001b[K\n",
            "Receiving objects:   0% (1/547)   \rReceiving objects:   1% (6/547)   \rReceiving objects:   2% (11/547)   \rReceiving objects:   3% (17/547)   \rReceiving objects:   4% (22/547)   \rReceiving objects:   5% (28/547)   \rReceiving objects:   6% (33/547)   \rReceiving objects:   7% (39/547)   \rReceiving objects:   8% (44/547)   \rReceiving objects:   9% (50/547)   \rReceiving objects:  10% (55/547)   \rReceiving objects:  11% (61/547)   \rReceiving objects:  12% (66/547)   \rReceiving objects:  13% (72/547)   \rReceiving objects:  14% (77/547)   \rReceiving objects:  15% (83/547)   \rReceiving objects:  16% (88/547)   \rReceiving objects:  17% (93/547)   \rReceiving objects:  18% (99/547)   \rReceiving objects:  19% (104/547)   \rReceiving objects:  20% (110/547)   \rReceiving objects:  21% (115/547)   \rReceiving objects:  22% (121/547)   \rReceiving objects:  23% (126/547)   \rReceiving objects:  24% (132/547)   \rReceiving objects:  25% (137/547)   \rReceiving objects:  26% (143/547)   \rReceiving objects:  27% (148/547)   \rReceiving objects:  28% (154/547)   \rReceiving objects:  29% (159/547)   \rReceiving objects:  30% (165/547)   \rReceiving objects:  31% (170/547)   \rReceiving objects:  32% (176/547)   \rReceiving objects:  33% (181/547)   \rReceiving objects:  34% (186/547)   \rReceiving objects:  35% (192/547)   \rReceiving objects:  36% (197/547)   \rReceiving objects:  37% (203/547)   \rReceiving objects:  38% (208/547)   \rReceiving objects:  39% (214/547)   \rReceiving objects:  40% (219/547)   \rReceiving objects:  41% (225/547)   \rReceiving objects:  42% (230/547)   \rReceiving objects:  43% (236/547)   \rReceiving objects:  44% (241/547)   \rReceiving objects:  45% (247/547)   \rReceiving objects:  46% (252/547)   \rReceiving objects:  47% (258/547)   \rReceiving objects:  48% (263/547)   \rReceiving objects:  49% (269/547)   \rReceiving objects:  50% (274/547)   \rReceiving objects:  51% (279/547)   \rReceiving objects:  52% (285/547)   \rReceiving objects:  53% (290/547)   \rReceiving objects:  54% (296/547)   \rReceiving objects:  55% (301/547)   \rReceiving objects:  56% (307/547)   \rReceiving objects:  57% (312/547)   \rReceiving objects:  58% (318/547)   \rReceiving objects:  59% (323/547)   \rReceiving objects:  60% (329/547)   \rReceiving objects:  61% (334/547)   \rReceiving objects:  62% (340/547)   \rReceiving objects:  63% (345/547)   \rReceiving objects:  64% (351/547)   \rReceiving objects:  65% (356/547)   \rReceiving objects:  66% (362/547)   \rReceiving objects:  67% (367/547)   \rReceiving objects:  68% (372/547)   \rReceiving objects:  69% (378/547)   \rReceiving objects:  70% (383/547)   \rReceiving objects:  71% (389/547)   \rReceiving objects:  72% (394/547)   \rReceiving objects:  73% (400/547)   \rReceiving objects:  74% (405/547)   \rReceiving objects:  75% (411/547)   \rReceiving objects:  76% (416/547)   \rReceiving objects:  77% (422/547)   \rReceiving objects:  78% (427/547)   \rReceiving objects:  79% (433/547)   \rReceiving objects:  80% (438/547)   \rReceiving objects:  81% (444/547)   \rReceiving objects:  82% (449/547)   \rReceiving objects:  83% (455/547)   \rReceiving objects:  84% (460/547)   \rReceiving objects:  85% (465/547), 10.46 MiB | 20.40 MiB/s   \rReceiving objects:  86% (471/547), 10.46 MiB | 20.40 MiB/s   \rReceiving objects:  87% (476/547), 10.46 MiB | 20.40 MiB/s   \rReceiving objects:  88% (482/547), 10.46 MiB | 20.40 MiB/s   \rReceiving objects:  89% (487/547), 10.46 MiB | 20.40 MiB/s   \rReceiving objects:  90% (493/547), 10.46 MiB | 20.40 MiB/s   \rReceiving objects:  91% (498/547), 10.46 MiB | 20.40 MiB/s   \rReceiving objects:  92% (504/547), 10.46 MiB | 20.40 MiB/s   \rReceiving objects:  93% (509/547), 10.46 MiB | 20.40 MiB/s   \rReceiving objects:  94% (515/547), 10.46 MiB | 20.40 MiB/s   \rReceiving objects:  95% (520/547), 10.46 MiB | 20.40 MiB/s   \rReceiving objects:  96% (526/547), 10.46 MiB | 20.40 MiB/s   \rReceiving objects:  97% (531/547), 10.46 MiB | 20.40 MiB/s   \rremote: Total 547 (delta 86), reused 0 (delta 0), pack-reused 400\u001b[K\n",
            "Receiving objects:  98% (537/547), 10.46 MiB | 20.40 MiB/s   \rReceiving objects:  99% (542/547), 10.46 MiB | 20.40 MiB/s   \rReceiving objects: 100% (547/547), 10.46 MiB | 20.40 MiB/s   \rReceiving objects: 100% (547/547), 12.65 MiB | 19.78 MiB/s, done.\n",
            "Resolving deltas:   0% (0/280)   \rResolving deltas:   2% (6/280)   \rResolving deltas:   8% (23/280)   \rResolving deltas:  10% (29/280)   \rResolving deltas:  12% (34/280)   \rResolving deltas:  13% (38/280)   \rResolving deltas:  14% (40/280)   \rResolving deltas:  15% (43/280)   \rResolving deltas:  16% (46/280)   \rResolving deltas:  19% (54/280)   \rResolving deltas:  20% (57/280)   \rResolving deltas:  21% (60/280)   \rResolving deltas:  22% (63/280)   \rResolving deltas:  26% (73/280)   \rResolving deltas:  30% (84/280)   \rResolving deltas:  31% (89/280)   \rResolving deltas:  34% (97/280)   \rResolving deltas:  38% (107/280)   \rResolving deltas:  40% (112/280)   \rResolving deltas:  42% (120/280)   \rResolving deltas:  46% (131/280)   \rResolving deltas:  47% (132/280)   \rResolving deltas:  48% (136/280)   \rResolving deltas:  50% (142/280)   \rResolving deltas:  51% (143/280)   \rResolving deltas:  52% (147/280)   \rResolving deltas:  53% (149/280)   \rResolving deltas:  55% (155/280)   \rResolving deltas:  56% (157/280)   \rResolving deltas:  57% (162/280)   \rResolving deltas:  58% (163/280)   \rResolving deltas:  59% (166/280)   \rResolving deltas:  60% (168/280)   \rResolving deltas:  67% (190/280)   \rResolving deltas:  68% (193/280)   \rResolving deltas:  85% (240/280)   \rResolving deltas:  86% (241/280)   \rResolving deltas:  91% (256/280)   \rResolving deltas:  92% (259/280)   \rResolving deltas:  93% (262/280)   \rResolving deltas:  96% (270/280)   \rResolving deltas:  97% (274/280)   \rResolving deltas:  98% (277/280)   \rResolving deltas: 100% (280/280)   \rResolving deltas: 100% (280/280), done.\n",
            "Cloned the repository\n",
            "cal_recall  install_dependencies.sh  PSENet.ipynb\t     train.py\n",
            "config.py   LICENSE\t\t     PSENet_predict.ipynb    utils\n",
            "dataset     models\t\t     PSENet_training.ipynb\n",
            "eval.py     predict.py\t\t     PSENet_trial_run.ipynb\n",
            "imgs\t    pse\t\t\t     README.md\n"
          ],
          "name": "stdout"
        }
      ]
    },
    {
      "cell_type": "code",
      "metadata": {
        "id": "dGLMxTujlm0w",
        "colab_type": "code",
        "colab": {}
      },
      "source": [
        "## unzipping the files\n",
        "from zipfile import ZipFile\n",
        "\n",
        "def unzip_files(file,output_dir):\n",
        "  with ZipFile(file, 'r') as zipObj:\n",
        "    # Extract all the contents of zip file in current directory\n",
        "    zipObj.extractall(output_dir)\n",
        "  print('Extracted to',output_dir)\n",
        "\n",
        "def make_directory(directory):\n",
        "  if os.path.isdir(directory):\n",
        "    shutil.rmtree(directory)\n",
        "  \n",
        "  os.mkdir(directory)\n",
        "  print('Created a new directory')\n",
        "\n",
        "training_data_zip = '/content/drive/My Drive/Colab Notebooks/padh.ai.notebooks/15. Object Detection/Scene Text Detection Dataset/English and Hindi MLT 2019.zip'"
      ],
      "execution_count": 0,
      "outputs": []
    },
    {
      "cell_type": "code",
      "metadata": {
        "id": "VLwHxE__ks05",
        "colab_type": "code",
        "colab": {
          "base_uri": "https://localhost:8080/",
          "height": 34
        },
        "outputId": "7cefb571-1319-4a0f-b443-def584f8b5d7"
      },
      "source": [
        "# make directories\n",
        "make_directory('Training Set')"
      ],
      "execution_count": 6,
      "outputs": [
        {
          "output_type": "stream",
          "text": [
            "Created a new directory\n"
          ],
          "name": "stdout"
        }
      ]
    },
    {
      "cell_type": "code",
      "metadata": {
        "id": "FFSaSXr-m-K4",
        "colab_type": "code",
        "outputId": "fac0d179-5cc2-4b11-a39f-d88d112077c3",
        "colab": {
          "base_uri": "https://localhost:8080/",
          "height": 68
        }
      },
      "source": [
        "%%time\n",
        "unzip_files(training_data_zip,'Training Set')"
      ],
      "execution_count": 9,
      "outputs": [
        {
          "output_type": "stream",
          "text": [
            "Extracted to Training Set\n",
            "CPU times: user 2.28 s, sys: 869 ms, total: 3.15 s\n",
            "Wall time: 10 s\n"
          ],
          "name": "stdout"
        }
      ]
    },
    {
      "cell_type": "code",
      "metadata": {
        "id": "MxPn5aW9nSxu",
        "colab_type": "code",
        "outputId": "838896d9-321f-4e59-c11a-914b15e6d656",
        "colab": {
          "base_uri": "https://localhost:8080/",
          "height": 34
        }
      },
      "source": [
        "print(len(os.listdir('Training Set/Images')))"
      ],
      "execution_count": 10,
      "outputs": [
        {
          "output_type": "stream",
          "text": [
            "2000\n"
          ],
          "name": "stdout"
        }
      ]
    },
    {
      "cell_type": "code",
      "metadata": {
        "id": "MOp4JsZ6nXvn",
        "colab_type": "code",
        "outputId": "f9c8dbc5-c371-4324-c542-2ecf1e8f772a",
        "colab": {
          "base_uri": "https://localhost:8080/",
          "height": 34
        }
      },
      "source": [
        "print(len(os.listdir('Training Set/Annotations')))"
      ],
      "execution_count": 11,
      "outputs": [
        {
          "output_type": "stream",
          "text": [
            "2000\n"
          ],
          "name": "stdout"
        }
      ]
    },
    {
      "cell_type": "code",
      "metadata": {
        "id": "mhvg89mXn8zG",
        "colab_type": "code",
        "colab": {}
      },
      "source": [
        "from dataset.data_utils import *\n",
        "from torchvision import transforms\n",
        "from torch.utils.data import DataLoader, Dataset"
      ],
      "execution_count": 0,
      "outputs": []
    },
    {
      "cell_type": "code",
      "metadata": {
        "id": "4JeHTz3G6Lyj",
        "colab_type": "code",
        "outputId": "c5c0ee17-e2c2-4e5b-f2c7-b9f78a48b902",
        "colab": {
          "base_uri": "https://localhost:8080/",
          "height": 34
        }
      },
      "source": [
        "train_data = MyDataset('Training Set',transform=transforms.ToTensor())\n",
        "len(train_data)"
      ],
      "execution_count": 13,
      "outputs": [
        {
          "output_type": "execute_result",
          "data": {
            "text/plain": [
              "1938"
            ]
          },
          "metadata": {
            "tags": []
          },
          "execution_count": 13
        }
      ]
    },
    {
      "cell_type": "code",
      "metadata": {
        "id": "odLKMn-5SBAz",
        "colab_type": "code",
        "colab": {}
      },
      "source": [
        "device = torch.device(\"cuda:0\")"
      ],
      "execution_count": 0,
      "outputs": []
    },
    {
      "cell_type": "code",
      "metadata": {
        "id": "iftS2F6AxiSe",
        "colab_type": "code",
        "outputId": "5d997ae4-5dbc-4b98-d3b1-0314a7679ae7",
        "colab": {
          "base_uri": "https://localhost:8080/",
          "height": 68
        }
      },
      "source": [
        "%%time\n",
        "train_loader = DataLoader(dataset=train_data, batch_size=4, shuffle=True)\n",
        "img, labels, training_mask = next(iter(train_loader))\n",
        "print(img.size(), labels.size(), training_mask.size())"
      ],
      "execution_count": 15,
      "outputs": [
        {
          "output_type": "stream",
          "text": [
            "torch.Size([4, 3, 640, 640]) torch.Size([4, 6, 640, 640]) torch.Size([4, 640, 640])\n",
            "CPU times: user 1.59 s, sys: 168 ms, total: 1.76 s\n",
            "Wall time: 1.14 s\n"
          ],
          "name": "stdout"
        }
      ]
    },
    {
      "cell_type": "code",
      "metadata": {
        "id": "jTE_8gI1SZ2b",
        "colab_type": "code",
        "colab": {}
      },
      "source": [
        "img, labels, training_mask = img.to(device), labels.to(device), training_mask.to(device)"
      ],
      "execution_count": 0,
      "outputs": []
    },
    {
      "cell_type": "code",
      "metadata": {
        "id": "JcoBK19qQIXZ",
        "colab_type": "code",
        "outputId": "a14f47e7-44a3-45dd-be61-a486b2491499",
        "colab": {
          "base_uri": "https://localhost:8080/",
          "height": 85
        }
      },
      "source": [
        "%%time\n",
        "from models import PSENet\n",
        "from models.loss import PSELoss\n",
        "import torch\n",
        "\n",
        "model = PSENet(backbone='resnet50', pretrained=True, result_num=6, scale=0.5)\n",
        "model.to(device)\n",
        "criterion = PSELoss(Lambda=0.7, ratio=3, reduction='mean')\n",
        "optimizer = torch.optim.Adam(model.parameters(), lr=2e-3)"
      ],
      "execution_count": 17,
      "outputs": [
        {
          "output_type": "stream",
          "text": [
            "Downloading: \"https://download.pytorch.org/models/resnet50-19c8e357.pth\" to /root/.cache/torch/checkpoints/resnet50-19c8e357.pth\n",
            "100%|██████████| 97.8M/97.8M [00:01<00:00, 81.7MB/s]\n"
          ],
          "name": "stderr"
        },
        {
          "output_type": "stream",
          "text": [
            "CPU times: user 644 ms, sys: 482 ms, total: 1.13 s\n",
            "Wall time: 2.17 s\n"
          ],
          "name": "stdout"
        }
      ]
    },
    {
      "cell_type": "code",
      "metadata": {
        "id": "c-OTbOB3RnSj",
        "colab_type": "code",
        "outputId": "a4a144ba-bd8a-4e30-9ac9-448863d8a0d9",
        "colab": {
          "base_uri": "https://localhost:8080/",
          "height": 51
        }
      },
      "source": [
        "y1 = model(img)\n",
        "loss_c, loss_s, loss = criterion(y1, labels, training_mask)\n",
        "\n",
        "print(y1.size())\n",
        "print(loss_c, loss_s, loss)"
      ],
      "execution_count": 18,
      "outputs": [
        {
          "output_type": "stream",
          "text": [
            "torch.Size([4, 6, 640, 640])\n",
            "tensor(0.4419, device='cuda:0', grad_fn=<MeanBackward0>) tensor(0.5888, device='cuda:0', grad_fn=<MeanBackward0>) tensor(0.4860, device='cuda:0', grad_fn=<AddBackward0>)\n"
          ],
          "name": "stdout"
        }
      ]
    }
  ]
}